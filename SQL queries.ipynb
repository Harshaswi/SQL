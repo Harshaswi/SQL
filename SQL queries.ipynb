{
 "cells": [
  {
   "cell_type": "markdown",
   "metadata": {
    "id": "hmzI5oZ6E_Hp"
   },
   "source": [
    "# SQL Assignment"
   ]
  },
  {
   "cell_type": "code",
   "execution_count": 1,
   "metadata": {
    "id": "wso5pGwnE_Ht"
   },
   "outputs": [],
   "source": [
    "import pandas as pd\n",
    "import sqlite3\n",
    "import re\n",
    "\n",
    "from IPython.display import display, HTML"
   ]
  },
  {
   "cell_type": "code",
   "execution_count": 2,
   "metadata": {
    "id": "uMYMAPLm23sp"
   },
   "outputs": [],
   "source": [
    "# Note that this is not the same db we have used in course videos, please download from this link\n",
    "# https://drive.google.com/file/d/1O-1-L1DdNxEK6O6nG2jS31MbrMh-OnXM/view?usp=sharing"
   ]
  },
  {
   "cell_type": "code",
   "execution_count": 3,
   "metadata": {
    "id": "xrUl9ShkE_H0"
   },
   "outputs": [
    {
     "data": {
      "text/plain": [
       "<sqlite3.Connection at 0x201684d4c70>"
      ]
     },
     "execution_count": 3,
     "metadata": {},
     "output_type": "execute_result"
    }
   ],
   "source": [
    "conn = sqlite3.connect(\"Db-IMDB-Assignment.db\")\n",
    "conn"
   ]
  },
  {
   "cell_type": "code",
   "execution_count": null,
   "metadata": {},
   "outputs": [],
   "source": []
  },
  {
   "cell_type": "markdown",
   "metadata": {
    "id": "Z_ADQl2BE_H6"
   },
   "source": [
    "#### Overview of all tables"
   ]
  },
  {
   "cell_type": "code",
   "execution_count": 4,
   "metadata": {
    "id": "7ZfheusYE_H7",
    "scrolled": true
   },
   "outputs": [
    {
     "data": {
      "text/plain": [
       "['Movie',\n",
       " 'Genre',\n",
       " 'Language',\n",
       " 'Country',\n",
       " 'Location',\n",
       " 'M_Location',\n",
       " 'M_Country',\n",
       " 'M_Language',\n",
       " 'M_Genre',\n",
       " 'Person',\n",
       " 'M_Producer',\n",
       " 'M_Director',\n",
       " 'M_Cast']"
      ]
     },
     "execution_count": 4,
     "metadata": {},
     "output_type": "execute_result"
    }
   ],
   "source": [
    "tables = pd.read_sql_query(\"SELECT NAME AS 'Table_Name' FROM sqlite_master WHERE type='table'\",conn)\n",
    "tables = tables[\"Table_Name\"].values.tolist()\n",
    "tables"
   ]
  },
  {
   "cell_type": "code",
   "execution_count": 27,
   "metadata": {},
   "outputs": [],
   "source": [
    "#pd.read_sql_query(\"select * from Movie\",conn)"
   ]
  },
  {
   "cell_type": "code",
   "execution_count": 6,
   "metadata": {},
   "outputs": [],
   "source": [
    "\n",
    "#pd.read_sql_query(\"select year from Movie where cast(substr(trim(movie.year),-4)as int)%4=0\",conn)\n"
   ]
  },
  {
   "cell_type": "code",
   "execution_count": 28,
   "metadata": {
    "colab": {
     "base_uri": "https://localhost:8080/",
     "height": 1000
    },
    "executionInfo": {
     "elapsed": 1573,
     "status": "ok",
     "timestamp": 1609076958858,
     "user": {
      "displayName": "Applied AI Course",
      "photoUrl": "https://lh3.googleusercontent.com/a-/AOh14GhuSQ5tWcMSEyUXWi5GYagbq0BttLJf6r6PPxrB=s64",
      "userId": "00484516897554883881"
     },
     "user_tz": -330
    },
    "id": "f3zLh5FGE_H_",
    "outputId": "a443d072-a22f-4d15-bff8-0b8a4ee78d5c",
    "scrolled": true
   },
   "outputs": [],
   "source": [
    "# for table in tables:\n",
    "#     query = \"PRAGMA TABLE_INFO({})\".format(table)\n",
    "#     schema = pd.read_sql_query(query,conn)\n",
    "#     print(\"Schema of\",table)\n",
    "#     display(schema)\n",
    "#     print(\"-\"*100)\n",
    "#     print(\"\\n\")"
   ]
  },
  {
   "cell_type": "markdown",
   "metadata": {
    "id": "O4Cj0Wdz23tA"
   },
   "source": [
    "## Useful tips:\n",
    "\n",
    "1. the year column in 'Movie' table, will have few chracters other than numbers which you need to be preprocessed, you need to get a substring of last 4 characters, its better if you convert it as int type, ex: CAST(SUBSTR(TRIM(m.year),-4) AS INTEGER)\n",
    "\n",
    "2. For almost all the TEXT columns we have show, please try to remove trailing spaces, you need to use TRIM() function\n",
    "\n",
    "3. When you are doing count(coulmn) it won't consider the \"NULL\" values, you might need to explore other alternatives like Count(*)"
   ]
  },
  {
   "cell_type": "markdown",
   "metadata": {
    "id": "jL9AmM3oE_IZ"
   },
   "source": [
    "## Q1 --- List all the directors who directed a 'Comedy' movie in a leap year. (You need to check that the genre is 'Comedy’ and year is a leap year) Your query should return director name, the movie name, and the year."
   ]
  },
  {
   "cell_type": "markdown",
   "metadata": {
    "id": "1jglmxDuE_Ib"
   },
   "source": [
    "<h4>To determine whether a year is a leap year, follow these steps:</h4>\n",
    "\n",
    "<ul>\n",
    "    <li><b>STEP-1:</b> If the year is evenly divisible by 4, go to step 2. Otherwise, go to step 5.</li>\n",
    "    <li><b>STEP-2:</b> If the year is evenly divisible by 100, go to step 3. Otherwise, go to step 4.</li>\n",
    "    <li><b>STEP-3:</b> If the year is evenly divisible by 400, go to step 4. Otherwise, go to step 5.</li>\n",
    "    <li><b>STEP-4:</b> The year is a leap year (it has 366 days).</li>\n",
    "    <li><b>STEP-5:</b> The year is not a leap year (it has 365 days).</li>\n",
    "</ul>\n",
    "\n",
    "Year 1900 is divisible by 4 and 100 but it is not divisible by 400, so it is not a leap year."
   ]
  },
  {
   "cell_type": "code",
   "execution_count": 29,
   "metadata": {
    "colab": {
     "base_uri": "https://localhost:8080/",
     "height": 606
    },
    "executionInfo": {
     "elapsed": 1695,
     "status": "error",
     "timestamp": 1600088797006,
     "user": {
      "displayName": "Applied AI Course",
      "photoUrl": "https://lh3.googleusercontent.com/a-/AOh14GhuSQ5tWcMSEyUXWi5GYagbq0BttLJf6r6PPxrB=s64",
      "userId": "00484516897554883881"
     },
     "user_tz": -330
    },
    "id": "yBo_pMrH23tD",
    "outputId": "cebe75ec-12f2-499f-854d-d33f2ab3a766"
   },
   "outputs": [
    {
     "name": "stdout",
     "output_type": "stream",
     "text": [
      "                Name                            title  year\n",
      "0      Griffin Dunne           The Accidental Husband  2008\n",
      "1   Mahesh Manjrekar   Jis Desh Mein Ganga Rehta Hain  2000\n",
      "2            Madonna                 Filth and Wisdom  2008\n",
      "3    Gurinder Chadha                Bride & Prejudice  2004\n",
      "4       Frank Coraci      Around the World in 80 Days  2004\n",
      "5   Tarun Mansukhani                          Dostana  2008\n",
      "6        Lekh Tandon                 Jhuk Gaya Aasman  1968\n",
      "7     S.S. Rajamouli                             Eega  2012\n",
      "8      Jugal Hansraj                   Roadside Romeo  2008\n",
      "9         Mike Judge  Beavis and Butt-Head Do America  1996\n",
      "Wall time: 53.9 ms\n"
     ]
    }
   ],
   "source": [
    "%%time\n",
    "def grader_1(q1):\n",
    "    q1_results  = pd.read_sql_query(q1,conn)\n",
    "    print(q1_results.head(10))\n",
    "    assert (q1_results.shape == (232,3))\n",
    "\n",
    "query1 = '''select p.name,m.title,m.year from Movie m join M_Director md \\\n",
    "                           on m.MID = md.MID join Person p on md.PID = trim(P.PID) join M_Genre mg\\\n",
    "                           on m.MID = mg.Mid join Genre g on mg.GID = g.GID \\\n",
    "                           and g.Name like '%Comedy%' and CAST(SUBSTRING(TRIM(m.year),-4)as INTEGER)%4=0 '''\n",
    "grader_1(query1)"
   ]
  },
  {
   "cell_type": "markdown",
   "metadata": {
    "id": "LHFSrIJlE_Ih"
   },
   "source": [
    "## Q2 --- List the names of all the actors who played in the movie 'Anand' (1971)"
   ]
  },
  {
   "cell_type": "code",
   "execution_count": 30,
   "metadata": {
    "id": "5BSQOVlk23tS",
    "outputId": "c3752139-c22a-46d8-f0eb-0c23ffce7bf3"
   },
   "outputs": [
    {
     "name": "stdout",
     "output_type": "stream",
     "text": [
      "                Name\n",
      "0   Amitabh Bachchan\n",
      "1      Rajesh Khanna\n",
      "2      Sumita Sanyal\n",
      "3         Ramesh Deo\n",
      "4          Seema Deo\n",
      "5     Asit Kumar Sen\n",
      "6         Dev Kishan\n",
      "7       Atam Prakash\n",
      "8      Lalita Kumari\n",
      "9             Savita\n",
      "Wall time: 370 ms\n"
     ]
    }
   ],
   "source": [
    "%%time\n",
    "def grader_2(q2):\n",
    "    q2_results  = pd.read_sql_query(q2,conn)\n",
    "    print(q2_results.head(10))\n",
    "    assert (q2_results.shape == (17,1))\n",
    "\n",
    "\n",
    "query2 = '''select p.Name from Person p join M_Cast mc on trim(p.PID)=trim(mc.PID) \n",
    "            join Movie m on mc.MID=m.MID \\\n",
    "            and m.title ='Anand' and m.year= 1971'''\n",
    "grader_2(query2)"
   ]
  },
  {
   "cell_type": "markdown",
   "metadata": {
    "id": "bJ-mAUMmE_Il"
   },
   "source": [
    "## Q3 --- List all the actors who acted in a film before 1970 and in a film after 1990. (That is: < 1970 and > 1990.)"
   ]
  },
  {
   "cell_type": "code",
   "execution_count": 31,
   "metadata": {
    "colab": {
     "base_uri": "https://localhost:8080/"
    },
    "executionInfo": {
     "elapsed": 1054,
     "status": "ok",
     "timestamp": 1609074911453,
     "user": {
      "displayName": "Applied AI Course",
      "photoUrl": "https://lh3.googleusercontent.com/a-/AOh14GhuSQ5tWcMSEyUXWi5GYagbq0BttLJf6r6PPxrB=s64",
      "userId": "00484516897554883881"
     },
     "user_tz": -330
    },
    "id": "HARXLaJ623tY",
    "outputId": "8f4788df-84e8-42b9-b535-520f546e3348"
   },
   "outputs": [
    {
     "name": "stdout",
     "output_type": "stream",
     "text": [
      "(4942, 1)\n",
      "(62570, 1)\n",
      "True\n",
      "Wall time: 312 ms\n"
     ]
    }
   ],
   "source": [
    "%%time\n",
    "\n",
    "def grader_3a(query_less_1970, query_more_1990):\n",
    "    q3_a = pd.read_sql_query(query_less_1970,conn)\n",
    "    print(q3_a.shape)\n",
    "    q3_b = pd.read_sql_query(query_more_1990,conn)\n",
    "    print(q3_b.shape)\n",
    "    return (q3_a.shape == (4942,1)) and (q3_b.shape == (62570,1))\n",
    "\n",
    "query_less_1970 =\"\"\" \n",
    "                Select p.PID from Person p \n",
    "                inner join \n",
    "                (\n",
    "                  select trim(mc.PID) PD, mc.MID from M_cast mc \n",
    "                  where mc.MID \n",
    "                  in \n",
    "                   (\n",
    "                    select mv.MID from Movie mv where CAST(SUBSTR(mv.year,-4) AS Integer)<1970\n",
    "                   )\n",
    "                ) r1 \n",
    "                on r1.PD=p.PID \n",
    "                \"\"\"\n",
    "query_more_1990 =\"\"\" \n",
    "                Select p.PID from Person p \n",
    "                inner join \n",
    "                (\n",
    "                  select trim(mc.PID) PD, mc.MID from M_cast mc \n",
    "                  where mc.MID \n",
    "                  in \n",
    "                  (\n",
    "                    select mv.MID from Movie mv where CAST(SUBSTR(mv.year,-4) AS Integer)>1990\n",
    "                  )\n",
    "                ) r1 \n",
    "                on r1.PD=p.PID \"\"\"\n",
    "print(grader_3a(query_less_1970, query_more_1990))\n",
    "\n",
    "# using the above two queries, you can find the answer to the given question "
   ]
  },
  {
   "cell_type": "code",
   "execution_count": 32,
   "metadata": {},
   "outputs": [
    {
     "name": "stdout",
     "output_type": "stream",
     "text": [
      "               Actor\n",
      "0       Rishi Kapoor\n",
      "1   Amitabh Bachchan\n",
      "2             Asrani\n",
      "3       Zohra Sehgal\n",
      "4    Parikshat Sahni\n",
      "5      Rakesh Sharma\n",
      "6        Sanjay Dutt\n",
      "7          Ric Young\n",
      "8              Yusuf\n",
      "9     Suhasini Mulay\n",
      "Wall time: 144 ms\n"
     ]
    }
   ],
   "source": [
    "%%time\n",
    "def grader_3(q3):\n",
    "    q3_results  = pd.read_sql_query(q3,conn)\n",
    "    print(q3_results.head(10))\n",
    "    assert (q3_results.shape == (300,1))\n",
    "    \n",
    "query3 = '''select Name as Actor from Person where PID in\\\n",
    "            (select TRIM(PID) from M_Cast mc where mc.MID in\\\n",
    "            (select MID from Movie m1 where cast(substr(m1.year,-4)as INTEGER)>1990) and \\\n",
    "            PID in(select PID from M_Cast where MID in\\\n",
    "            (select MID from Movie m2 where cast(substr(m2.year,-4)as INTEGER)<1970)))  '''  \n",
    "\n",
    "grader_3(query3)"
   ]
  },
  {
   "cell_type": "code",
   "execution_count": null,
   "metadata": {},
   "outputs": [],
   "source": [
    "# '''select p.Name from Person p join M_Cast mc on trim(p.PID) = trim(mc.PID) join Movie m\n",
    "#             on mc.MID=m.MID and CAST(SUBSTR(m.year,-4)as INTEGER)<1970\n",
    "#             and CAST(SUBSTR(m.year,-4)as INTEGER)>1990'''    "
   ]
  },
  {
   "cell_type": "markdown",
   "metadata": {
    "id": "wd3tqFxaE_Ir"
   },
   "source": [
    "## Q4 --- List all directors who directed 10 movies or more, in descending order of the number of movies they directed. Return the directors' names and the number of movies each of them directed."
   ]
  },
  {
   "cell_type": "code",
   "execution_count": 33,
   "metadata": {
    "id": "aGgqAYk723th",
    "outputId": "8451f009-5585-43c6-f3bd-ae9aef0ede4a"
   },
   "outputs": [
    {
     "name": "stdout",
     "output_type": "stream",
     "text": [
      "         PID  count\n",
      "0  nm0000180      1\n",
      "1  nm0000187      1\n",
      "2  nm0000229      1\n",
      "3  nm0000269      1\n",
      "4  nm0000386      1\n",
      "5  nm0000487      2\n",
      "6  nm0000965      1\n",
      "7  nm0001060      1\n",
      "8  nm0001162      1\n",
      "9  nm0001241      1\n",
      "True\n",
      "Wall time: 76 ms\n"
     ]
    }
   ],
   "source": [
    "%%time\n",
    "\n",
    "def grader_4a(query_4a):\n",
    "    query_4a = pd.read_sql_query(query_4a,conn)\n",
    "    print(query_4a.head(10)) \n",
    "    return (query_4a.shape == (1462,2))\n",
    "##*** Write a query, which will return all the directors(id's) along with the number of movies they directed ***\n",
    "query_4a =\"\"\" select md.PID,count(*) as count from M_Director md \n",
    "              join Person p on md.PID = p.PID \n",
    "              group by md.PID\"\"\"\n",
    "print(grader_4a(query_4a))\n",
    "\n",
    "# using the above query, you can write the answer to the given question"
   ]
  },
  {
   "cell_type": "code",
   "execution_count": 34,
   "metadata": {
    "id": "xROoSzcF23tn",
    "outputId": "76366cff-58f5-4d83-d58b-017c0f7afc58"
   },
   "outputs": [
    {
     "name": "stdout",
     "output_type": "stream",
     "text": [
      "                    Name  no_of_movies\n",
      "0           David Dhawan            39\n",
      "1           Mahesh Bhatt            36\n",
      "2           Priyadarshan            30\n",
      "3        Ram Gopal Varma            30\n",
      "4           Vikram Bhatt            29\n",
      "5   Hrishikesh Mukherjee            27\n",
      "6            Yash Chopra            21\n",
      "7         Shakti Samanta            19\n",
      "8        Basu Chatterjee            19\n",
      "9           Subhash Ghai            18\n",
      "Wall time: 37.7 ms\n"
     ]
    }
   ],
   "source": [
    "%%time\n",
    "def grader_4(q4):\n",
    "    q4_results  = pd.read_sql_query(q4,conn)\n",
    "    print(q4_results.head(10))\n",
    "    assert (q4_results.shape == (58,2))\n",
    "\n",
    "query4 = \"\"\" select p.Name,count(*)as no_of_movies from Person p \n",
    "             join M_Director md on p.PID = md.PID \\\n",
    "             group by p.Name \n",
    "             having count(*)>=10 \n",
    "             order by count(*) desc\"\"\"\n",
    "grader_4(query4)"
   ]
  },
  {
   "cell_type": "markdown",
   "metadata": {
    "id": "OnulNpiOE_Iw"
   },
   "source": [
    "## Q5.a --- For each year, count the number of movies in that year that had only female actors."
   ]
  },
  {
   "cell_type": "code",
   "execution_count": 46,
   "metadata": {
    "id": "ES-gGiNG23tr",
    "outputId": "05e73aed-8917-4d9f-b746-619d1c48735b"
   },
   "outputs": [
    {
     "name": "stdout",
     "output_type": "stream",
     "text": [
      "         MID  Gender  no_of_movies\n",
      "0  tt0021594    None             1\n",
      "1  tt0021594  Female             3\n",
      "2  tt0021594    Male             5\n",
      "3  tt0026274    None             2\n",
      "4  tt0026274  Female            11\n",
      "5  tt0026274    Male             9\n",
      "6  tt0027256    None             2\n",
      "7  tt0027256  Female             5\n",
      "8  tt0027256    Male             8\n",
      "9  tt0028217  Female             3\n",
      "True\n",
      "         MID Gender  no_of_movies\n",
      "0  tt0021594   Male             5\n",
      "1  tt0026274   Male             9\n",
      "2  tt0027256   Male             8\n",
      "3  tt0028217   Male             7\n",
      "4  tt0031580   Male            27\n",
      "5  tt0033616   Male            46\n",
      "6  tt0036077   Male            11\n",
      "7  tt0038491   Male             7\n",
      "8  tt0039654   Male             6\n",
      "9  tt0040067   Male            10\n",
      "True\n",
      "Wall time: 1.06 s\n"
     ]
    }
   ],
   "source": [
    "%%time\n",
    "\n",
    "# note that you don't need TRIM for person table\n",
    "\n",
    "def grader_5aa(query_5aa):\n",
    "    query_5aa = pd.read_sql_query(query_5aa,conn)\n",
    "    print(query_5aa.head(10)) \n",
    "    return (query_5aa.shape == (8846,3))\n",
    "\n",
    "#*** Write your query that will get movie id, and number of people for each geneder *** \n",
    "query_5aa =\"\"\" select mc.MID,p.Gender,count(*) as no_of_movies from Person p \n",
    "               join M_cast mc on p.PID = trim(mc.PID)\\\n",
    "               group by mc.MID,p.Gender\"\"\"\n",
    "\n",
    "print(grader_5aa(query_5aa))\n",
    "\n",
    "def grader_5ab(query_5ab):\n",
    "    query_5ab = pd.read_sql_query(query_5ab,conn)\n",
    "    print(query_5ab.head(10)) \n",
    "    return (query_5ab.shape == (3469, 3))\n",
    "\n",
    "#*** Write your query that will have at least one male actor try to use query that you have written above ***\n",
    "query_5ab =\"\"\"select mc.MID,p.Gender,count(*)as no_of_movies from Person p \n",
    "              join M_cast mc on p.PID = trim(mc.PID)\n",
    "              group by mc.MID,p.Gender \n",
    "              having p.Gender ='Male' and count(*)>=1  \"\"\"\n",
    "\n",
    "print(grader_5ab(query_5ab))\n",
    "\n",
    "\n",
    "# using the above queries, you can write the answer to the given question"
   ]
  },
  {
   "cell_type": "code",
   "execution_count": 33,
   "metadata": {
    "colab": {
     "base_uri": "https://localhost:8080/",
     "height": 153
    },
    "id": "zQOIawPME_Ix",
    "outputId": "48450a58-61f0-4bc6-f71e-ff7df4ab7f80"
   },
   "outputs": [
    {
     "name": "stdout",
     "output_type": "stream",
     "text": [
      "   year  count\n",
      "0  1939      1\n",
      "1  1999      1\n",
      "2  2000      1\n",
      "3  2018      1\n",
      "Wall time: 278 ms\n"
     ]
    }
   ],
   "source": [
    "%%time\n",
    "def grader_5a(q5a):\n",
    "    q5a_results  = pd.read_sql_query(q5a,conn)\n",
    "    print(q5a_results.head(10))\n",
    "    assert (q5a_results.shape == (4,2))\n",
    "\n",
    "query5a = \"\"\"with \n",
    "             \n",
    "             male_MIDS as(select  mc.MID from M_cast mc ,Person p where trim(mc.PID)=p.PID and p.Gender ='Male'),\n",
    "             female_MIDS as(select m.MID from Movie m,M_cast mc where trim(mc.MID) =m.MID and \n",
    "                            trim(m.MID) not in(select MID from male_MIDS))\n",
    "             \n",
    "             select substr(year,-4) year, count(*) count from Movie \n",
    "             where trim(MID) in (select MID from female_MIDS)\n",
    "             group by year\n",
    "             order by year\"\"\"\n",
    "grader_5a(query5a)"
   ]
  },
  {
   "cell_type": "markdown",
   "metadata": {
    "id": "cTiKejUfE_I1"
   },
   "source": [
    "## Q5.b --- Now include a small change: report for each year the percentage of movies in that year with only female actors, and the total number of movies made that year. For example, one answer will be: 1990 31.81 13522 meaning that in 1990 there were 13,522 movies, and 31.81% had only female actors. You do not need to round your answer."
   ]
  },
  {
   "cell_type": "code",
   "execution_count": 44,
   "metadata": {
    "colab": {
     "base_uri": "https://localhost:8080/",
     "height": 153
    },
    "id": "Xv6iXvcZE_I2",
    "outputId": "16958703-8f35-40d8-8489-b7269cde2d70"
   },
   "outputs": [
    {
     "name": "stdout",
     "output_type": "stream",
     "text": [
      "   year  total_movies    percent\n",
      "0  1939             2  50.000000\n",
      "1  1999            66  16.666667\n",
      "2  2000            64  15.625000\n",
      "3  2018           104   1.923077\n",
      "Wall time: 8.74 s\n"
     ]
    }
   ],
   "source": [
    "%%time\n",
    "def grader_5b(q5b):\n",
    "    q5b_results  = pd.read_sql_query(q5b,conn)\n",
    "    print(q5b_results.head(10))\n",
    "    assert (q5b_results.shape == (4,3))\n",
    "\n",
    "query5b = \"\"\"with\n",
    "             male_MIDS as(select mc.MID from M_cast mc ,Person p where trim(mc.PID)=p.PID and p.Gender ='Male'),\n",
    "             female_MIDS as(select m.MID from Movie m,M_cast mc where trim(mc.MID) =m.MID and trim(m.MID) not in(select MID from male_MIDS)),\n",
    "             ALL_years as (select year, count(*) total_movies from Movie group by substr(year,-4))\n",
    "             \n",
    "             select substr(m.year,-4) year ,ay.total_movies , count(m.year) *100.0  / total_movies as percent from movie m\n",
    "             join female_MIDS fm on fm.MID = m.MID\n",
    "             join ALL_years ay on substr(ay.year,-4) = substr(m.year,-4)\n",
    "             group by m.year\n",
    "             order by m.year\"\"\"\n",
    "grader_5b(query5b)"
   ]
  },
  {
   "cell_type": "markdown",
   "metadata": {
    "id": "d5mvJcHDE_I6"
   },
   "source": [
    "## Q6 --- Find the film(s) with the largest cast. Return the movie title and the size of the cast. By \"cast size\" we mean the number of distinct actors that played in that movie: if an actor played multiple roles, or if it simply occurs multiple times in casts, we still count her/him only once."
   ]
  },
  {
   "cell_type": "code",
   "execution_count": 38,
   "metadata": {
    "colab": {
     "base_uri": "https://localhost:8080/",
     "height": 255
    },
    "id": "vpr9gGg6E_I7",
    "outputId": "bceec796-502e-4bb1-ce5e-0f8eb703e2f5"
   },
   "outputs": [
    {
     "name": "stdout",
     "output_type": "stream",
     "text": [
      "                        title  total_cast\n",
      "0               Ocean's Eight         238\n",
      "1                    Apaharan         233\n",
      "2                        Gold         215\n",
      "3             My Name Is Khan         213\n",
      "4  Captain America: Civil War         191\n",
      "5                    Geostorm         170\n",
      "6                     Striker         165\n",
      "7                        2012         154\n",
      "8                      Pixels         144\n",
      "9       Yamla Pagla Deewana 2         140\n",
      "Wall time: 232 ms\n"
     ]
    }
   ],
   "source": [
    "%%time\n",
    "def grader_6(q6):\n",
    "    q6_results  = pd.read_sql_query(q6,conn)\n",
    "    print(q6_results.head(10))\n",
    "    assert (q6_results.shape == (3473, 2))\n",
    "\n",
    "query6 = \"\"\" select m.title ,count(mc.PID)total_cast from Movie m \n",
    "             join M_cast mc on m.MID=mc.MID \n",
    "             group by m.MID\n",
    "             order by total_cast desc\"\"\"\n",
    "grader_6(query6)"
   ]
  },
  {
   "cell_type": "markdown",
   "metadata": {
    "id": "E6mOLxNgTby6"
   },
   "source": [
    "### Q7 --- A decade is a sequence of 10 consecutive years. \n",
    "### For example, say in your database you have movie information starting from 1931. \n",
    "### the first decade is 1931, 1932, ..., 1940,\n",
    "### the second decade is 1932, 1933, ..., 1941 and so on. \n",
    "### Find the decade D with the largest number of films and the total number of films in D"
   ]
  },
  {
   "cell_type": "code",
   "execution_count": 39,
   "metadata": {
    "id": "ZfOWt8IW23uE",
    "outputId": "2f06e789-9f45-44ed-d1d7-d628170bb6c5"
   },
   "outputs": [
    {
     "name": "stdout",
     "output_type": "stream",
     "text": [
      "   year  no_of_movies\n",
      "0  1931             1\n",
      "1  1936             3\n",
      "2  1939             2\n",
      "3  1941             1\n",
      "4  1943             1\n",
      "5  1946             2\n",
      "6  1947             2\n",
      "7  1948             3\n",
      "8  1949             3\n",
      "9  1950             2\n",
      "Wall time: 4.99 ms\n"
     ]
    }
   ],
   "source": [
    "%%time\n",
    "def grader_7a(q7a):\n",
    "    q7a_results  = pd.read_sql_query(q7a,conn)\n",
    "    print(q7a_results.head(10))\n",
    "    assert (q7a_results.shape == (78, 2))\n",
    "#*** Write a query that computes number of movies in each year ***\n",
    "query7a = \"\"\" select year,count(*) as no_of_movies from Movie \n",
    "              group by substr(year,-4)  \"\"\"\n",
    "grader_7a(query7a)\n",
    "\n",
    "# using the above query, you can write the answer to the given question"
   ]
  },
  {
   "cell_type": "code",
   "execution_count": 40,
   "metadata": {
    "id": "sBMzLrIY23uJ",
    "outputId": "6f40ad73-684a-44f9-a7ce-c0ec253df7e7"
   },
   "outputs": [
    {
     "name": "stdout",
     "output_type": "stream",
     "text": [
      "   first  second  last  count\n",
      "0   1931    1931  1940      1\n",
      "1   1941    1941  1950      1\n",
      "2   1941    1943  1950      1\n",
      "3   1943    1943  1952      1\n",
      "4   1931    1939  1940      2\n",
      "5   1939    1941  1948      2\n",
      "6   1939    1943  1948      2\n",
      "7   1941    1946  1950      2\n",
      "8   1941    1947  1950      2\n",
      "9   1941    1950  1950      2\n",
      "Wall time: 9.63 s\n"
     ]
    }
   ],
   "source": [
    "%%time\n",
    "def grader_7b(q7b):\n",
    "    q7b_results  = pd.read_sql_query(q7b,conn)\n",
    "    print(q7b_results.head(10))\n",
    "    assert (q7b_results.shape == (713, 4))\n",
    "\n",
    "#*** \n",
    "#    Write a query that will do joining of the above table(7a) with itself \n",
    "#    such that you will join with only rows if the second tables year is <= current_year+9 and more than or equal current_year\n",
    "#    ***    \n",
    "\n",
    "# to solve this query referred https://www.w3schools.com/sql/sql_join_self.asp suggested by slack group member\n",
    "query7b = \"\"\" select cast(substr(m.year,-4)as INTEGER) first,cast(substr(n.year,-4)as INTEGER) second,\\\n",
    "              cast(substr(m.year,-4)as INTEGER)+9 last,count(*) count from Movie m,Movie n\\\n",
    "              where second<=last and second>=first\\\n",
    "              group by last,second\n",
    "              order by count(*)\"\"\"\n",
    "grader_7b(query7b)\n",
    "# if you see the below results the first movie year is less than 2nd movie year and \n",
    "# 2nd movie year is less or equal to the first movie year+9\n",
    "\n",
    "# using the above query, you can write the answer to the given question"
   ]
  },
  {
   "cell_type": "code",
   "execution_count": null,
   "metadata": {},
   "outputs": [],
   "source": [
    "# \"\"\" select m.year,n.year,m.year+9 last,count(*) from (select year,count(*) as no_of_movies from Movie group by substr(year,-4))m\\\n",
    "#               join (select year,count(*) as no_of_movies from Movie group by substr(year,-4))n\\\n",
    "#               on n.year <= m.year+9 and n.year >=m.year group by last \"\"\""
   ]
  },
  {
   "cell_type": "code",
   "execution_count": 41,
   "metadata": {
    "colab": {
     "base_uri": "https://localhost:8080/",
     "height": 255
    },
    "id": "NKqbguuqE_JA",
    "outputId": "2819ceef-0787-45f9-c38f-9648ccf787f0"
   },
   "outputs": [
    {
     "name": "stdout",
     "output_type": "stream",
     "text": [
      "   first  max(count)\n",
      "0   2013       18496\n",
      "Wall time: 9.68 s\n"
     ]
    }
   ],
   "source": [
    "%%time\n",
    "def grader_7(q7):\n",
    "    q7_results  = pd.read_sql_query(q7,conn)\n",
    "    print(q7_results.head(10))\n",
    "    assert (q7_results.shape == (1, 2))\n",
    "\n",
    "query7 = \"\"\"with \\\n",
    "            ALL_count as (select cast(substr(m.year,-4)as INTEGER) first,cast(substr(n.year,-4)as INTEGER) second,\\\n",
    "              cast(substr(m.year,-4)as INTEGER)+9 last,count(*) count from Movie m,Movie n\\\n",
    "              where second<=last and second>=first\\\n",
    "              group by last,second\n",
    "              order by count(*))\n",
    "              \n",
    "              select first,max(count) from ALL_count\"\"\"\n",
    "grader_7(query7)\n",
    "# if you check the output we are printinng all the year in that decade, its fine you can print 2008 or 2008-2017"
   ]
  },
  {
   "cell_type": "markdown",
   "metadata": {
    "id": "Jbm3Oy3hT8d9"
   },
   "source": [
    "## Q8 --- Find all the actors that made more movies with Yash Chopra than any other director."
   ]
  },
  {
   "cell_type": "code",
   "execution_count": 42,
   "metadata": {
    "id": "DZJ7WMrk23uR",
    "outputId": "6f379ab4-bfb0-4a2f-dc6a-ae221cb65a0e"
   },
   "outputs": [
    {
     "name": "stdout",
     "output_type": "stream",
     "text": [
      "    director      actor  count(*)\n",
      "0  nm0000180  nm0000027         1\n",
      "1  nm0000180  nm0001114         1\n",
      "2  nm0000180  nm0001919         1\n",
      "3  nm0000180  nm0006762         1\n",
      "4  nm0000180  nm0030062         1\n",
      "5  nm0000180  nm0038970         1\n",
      "6  nm0000180  nm0051856         1\n",
      "7  nm0000180  nm0085966         1\n",
      "8  nm0000180  nm0097889         1\n",
      "9  nm0000180  nm0125497         1\n",
      "Wall time: 636 ms\n"
     ]
    }
   ],
   "source": [
    "%%time\n",
    "def grader_8a(q8a):\n",
    "    q8a_results  = pd.read_sql_query(q8a,conn)\n",
    "    print(q8a_results.head(10))\n",
    "    assert (q8a_results.shape == (73408, 3))\n",
    "#*** Write a query that will results in number of movies actor-director worked together ***\n",
    "query8a = \"\"\" select pd.PID director,pa.PID actor, count(*) from M_Director md\\\n",
    "              join Person pd on pd.PID = trim(md.PID)\n",
    "              join M_Cast mc on mc.MID = trim(md.MID)\n",
    "              join Person pa on pa.PID = trim(mc.PID)\n",
    "              group by director,actor  \"\"\"\n",
    "grader_8a(query8a)\n",
    "\n",
    "# using the above query, you can write the answer to the given question"
   ]
  },
  {
   "cell_type": "code",
   "execution_count": 43,
   "metadata": {
    "colab": {
     "base_uri": "https://localhost:8080/",
     "height": 255
    },
    "id": "SYMTcHixE_JH",
    "outputId": "8cc98748-cc3b-4cbf-fa99-3af323f0d094"
   },
   "outputs": [
    {
     "name": "stdout",
     "output_type": "stream",
     "text": [
      "       actor  count\n",
      "0  nm0004434      7\n",
      "1  nm0007181      2\n",
      "2  nm0015296      1\n",
      "3  nm0019463      1\n",
      "4  nm0046230      1\n",
      "5  nm0052570      1\n",
      "6  nm0080266      1\n",
      "7  nm0080385      1\n",
      "8  nm0081070      1\n",
      "9  nm0085944      1\n",
      "(245, 2)\n",
      "Wall time: 839 ms\n"
     ]
    }
   ],
   "source": [
    "%%time\n",
    "\n",
    "def grader_8(q8):\n",
    "    q8_results  = pd.read_sql_query(q8,conn)\n",
    "    print(q8_results.head(10))\n",
    "    print(q8_results.shape)\n",
    "    assert (q8_results.shape == (245, 2))\n",
    "\n",
    "query8 = \"\"\" select actor, count from \\\n",
    "             (select pd.PID director,pa.PID actor, count(*)count from M_Director md\\\n",
    "              join Person pd on pd.PID = trim(md.PID)\n",
    "              join M_Cast mc on mc.MID = trim(md.MID)\n",
    "              join Person pa on pa.PID = trim(mc.PID)\n",
    "              group by director,actor)\n",
    "              where (actor ,count) in \\\n",
    "              (select actor ,max(max_count) from \\\n",
    "              (select pd.PID director,pa.PID actor, count(*)max_count from M_Director md\\\n",
    "              join Person pd on pd.PID = trim(md.PID)\n",
    "              join M_Cast mc on mc.MID = trim(md.MID)\n",
    "              join Person pa on pa.PID = trim(mc.PID)\n",
    "              group by director,actor)\n",
    "              group by actor) and director ='nm0007181' \"\"\"\n",
    "\n",
    "grader_8(query8)"
   ]
  },
  {
   "cell_type": "markdown",
   "metadata": {
    "id": "2j8Fc9jUUJ9C"
   },
   "source": [
    "## Q9 --- The Shahrukh number of an actor is the length of the shortest path between the actor and Shahrukh Khan in the \"co-acting\" graph. That is, Shahrukh Khan has Shahrukh number 0; all actors who acted in the same film as Shahrukh have Shahrukh number 1; all actors who acted in the same film as some actor with Shahrukh number 1 have Shahrukh number 2, etc. Return all actors whose Shahrukh number is 2."
   ]
  },
  {
   "cell_type": "code",
   "execution_count": 44,
   "metadata": {
    "id": "3FnJ_19z23ub",
    "outputId": "c63ac439-ad2b-4aa4-8aeb-dc0245670f34"
   },
   "outputs": [
    {
     "name": "stdout",
     "output_type": "stream",
     "text": [
      "  trim(mc3.PID)\n",
      "0     nm0000818\n",
      "1     nm0000821\n",
      "2     nm0001934\n",
      "3     nm0002043\n",
      "4     nm0004109\n",
      "5     nm0004334\n",
      "6     nm0004335\n",
      "7     nm0004363\n",
      "8     nm0004418\n",
      "9     nm0004429\n",
      "(2382, 1)\n",
      "Wall time: 143 ms\n"
     ]
    }
   ],
   "source": [
    "%%time\n",
    "def grader_9a(q9a):\n",
    "    q9a_results  = pd.read_sql_query(q9a,conn)\n",
    "    print(q9a_results.head(10))\n",
    "    print(q9a_results.shape)\n",
    "    assert (q9a_results.shape == (2382, 1))\n",
    "\n",
    "query9a = \"\"\" select trim(mc3.PID) from M_cast mc3 where trim(mc3.MID)\n",
    "                        IN \n",
    "                          (\n",
    "                           select trim(mc2.MID) from M_cast mc2 where trim(mc2.PID)\n",
    "                           IN \n",
    "                             (\n",
    "                              select trim(mc1.PID) from M_cast mc1,Person p where p.PID =trim(mc1.PID)\n",
    "                              and trim(p.name) like '%Shah Rukh Khan%' \n",
    "                             )\n",
    "                          )\n",
    "                        except \n",
    "                        select trim(mc1.PID) from M_cast mc1,Person p where p.PID=trim(mc1.PID)\n",
    "                        and trim(p.name) like '%Shah Rukh Khan%' \"\"\"\n",
    "grader_9a(query9a)\n",
    "# using the above query, you can write the answer to the given question\n",
    "\n",
    "# selecting actors who acted with srk (S1)\n",
    "# selecting all movies where S1 actors acted, this forms S2 movies list\n",
    "# selecting all actors who acted in S2 movies, this gives us S2 actors along with S1 actors\n",
    "# removing S1 actors from the combined list of S1 & S2 actors, so that we get only S2 actors"
   ]
  },
  {
   "cell_type": "code",
   "execution_count": 45,
   "metadata": {
    "colab": {
     "base_uri": "https://localhost:8080/",
     "height": 255
    },
    "id": "5o6imc82E_JS",
    "outputId": "29de4fa8-ddbb-44ba-ad8f-12d2e48d278f"
   },
   "outputs": [
    {
     "name": "stdout",
     "output_type": "stream",
     "text": [
      "                     Name\n",
      "0            Freida Pinto\n",
      "1             Rohan Chand\n",
      "2            Damian Young\n",
      "3         Waris Ahluwalia\n",
      "4   Caroline Christl Long\n",
      "5           Rajeev Pahuja\n",
      "6       Michelle Santiago\n",
      "7         Alicia Vikander\n",
      "8            Dominic West\n",
      "9          Walton Goggins\n",
      "(25698, 1)\n",
      "Wall time: 464 ms\n"
     ]
    }
   ],
   "source": [
    "%%time\n",
    "def grader_9(q9):\n",
    "    q9_results  = pd.read_sql_query(q9,conn)\n",
    "    print(q9_results.head(10))\n",
    "    print(q9_results.shape)\n",
    "    assert (q9_results.shape == (25698, 1))\n",
    "\n",
    "#*** Write a query that answers the 9th question ***    \n",
    "query9 = \"\"\"select name from Person where PID\n",
    "                IN \n",
    "                  (\n",
    "                   select trim(mc5.PID) from M_cast mc5 where trim(mc5.MID)\n",
    "                   IN \n",
    "                     (\n",
    "                      select trim(mc4.MID) from M_cast mc4 where trim(mc4.PID)\n",
    "                      IN\n",
    "                       (\n",
    "                        select trim(mc3.PID) from M_cast mc3 where trim(mc3.MID)\n",
    "                        IN \n",
    "                          (\n",
    "                           select trim(mc2.MID) from M_cast mc2 where trim(mc2.PID)\n",
    "                           IN \n",
    "                             (\n",
    "                              select trim(mc1.PID) from M_cast mc1,Person p where trim(mc1.PID) =p.PID\n",
    "                              and p.name like '%Shah Rukh Khan%' \n",
    "                             )\n",
    "                          )\n",
    "                        except \n",
    "                        select trim(mc1.PID) from M_cast mc1,Person p where trim(mc1.PID) = p.PID \n",
    "                        and p.name like '%Shah Rukh Khan%'\n",
    "                        )\n",
    "                     )  \n",
    "                     except \n",
    "                     select trim(mc3.PID) from M_cast mc3 where trim(mc3.MID)\n",
    "                        IN \n",
    "                          (\n",
    "                          select trim(mc2.MID) from M_cast mc2 where trim(mc2.PID)\n",
    "                           IN \n",
    "                             (\n",
    "                              select trim(mc1.PID) from M_cast mc1,Person p where trim(mc1.PID) =p.PID\n",
    "                              and p.name like '%Shah Rukh Khan%' \n",
    "                             )\n",
    "                          )\n",
    "                        except \n",
    "                        select trim(mc1.PID) from M_cast mc1,Person p where trim(mc1.PID) = p.PID \n",
    "                        and p.name like '%Shah Rukh Khan%'\n",
    "                     \n",
    "                     \n",
    "                               )\"\"\"\n",
    "grader_9(query9)"
   ]
  },
  {
   "cell_type": "code",
   "execution_count": null,
   "metadata": {},
   "outputs": [],
   "source": []
  }
 ],
 "metadata": {
  "colab": {
   "collapsed_sections": [],
   "name": "SQL sample queries.ipynb",
   "provenance": [],
   "toc_visible": true
  },
  "kernelspec": {
   "display_name": "Python 3 (ipykernel)",
   "language": "python",
   "name": "python3"
  },
  "language_info": {
   "codemirror_mode": {
    "name": "ipython",
    "version": 3
   },
   "file_extension": ".py",
   "mimetype": "text/x-python",
   "name": "python",
   "nbconvert_exporter": "python",
   "pygments_lexer": "ipython3",
   "version": "3.7.11"
  }
 },
 "nbformat": 4,
 "nbformat_minor": 1
}
